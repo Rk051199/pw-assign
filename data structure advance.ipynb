{
  "nbformat": 4,
  "nbformat_minor": 0,
  "metadata": {
    "colab": {
      "provenance": []
    },
    "kernelspec": {
      "name": "python3",
      "display_name": "Python 3"
    },
    "language_info": {
      "name": "python"
    }
  },
  "cells": [
    {
      "cell_type": "code",
      "execution_count": null,
      "metadata": {
        "id": "BfQoOC_hCZHa"
      },
      "outputs": [],
      "source": [
        "# Question 1 -write a code to reverse a string\n",
        "\n",
        "string = \"hello world\"\n",
        "reversed_string = string[::-1]\n",
        "print(reversed_string)\n"
      ]
    },
    {
      "cell_type": "code",
      "source": [
        "# Question2- write a code to  count the number of vowels in a string\n",
        "\n",
        "string = \"hello world\"\n",
        "vowels = \"aeiouAEIOU\"\n",
        "vowel_count = 0\n",
        "for char in string:\n",
        "  if char in vowels:\n",
        "    vowel_count += 1\n",
        "print(vowel_count)\n"
      ],
      "metadata": {
        "id": "o8Z1flMvDLCv"
      },
      "execution_count": null,
      "outputs": []
    },
    {
      "cell_type": "code",
      "source": [
        "# Question3- write a code to check if a given string is a pallindrome or not\n",
        "\n",
        "def is_palindrome(s):\n",
        "  s = s.lower().replace(\" \", \"\")\n",
        "  return s == s[::-1]\n",
        "\n",
        "string = \"madam\"\n",
        "if is_palindrome(string):\n",
        "  print(\"The string is a palindrome.\")\n",
        "else:\n",
        "  print(\"The string is not a palindrome.\")\n"
      ],
      "metadata": {
        "id": "rC26JbgiE8Rd"
      },
      "execution_count": null,
      "outputs": []
    },
    {
      "cell_type": "code",
      "source": [
        "# Question4- write a code to check if two given strings are anagrams of each other\n",
        "\n",
        "def are_anagrams(str1, str2):\n",
        "  str1 = str1.lower().replace(\" \", \"\")\n",
        "  str2 = str2.lower().replace(\" \", \"\")\n",
        "  return sorted(str1) == sorted(str2)\n",
        "\n",
        "string1 = \"listen\"\n",
        "string2 = \"silent\"\n",
        "if are_anagrams(string1, string2):\n",
        "  print(\"The strings are anagrams.\")\n",
        "else:\n",
        "  print(\"The strings are not anagrams.\")\n"
      ],
      "metadata": {
        "id": "AF0A0PIgFJfa"
      },
      "execution_count": null,
      "outputs": []
    },
    {
      "cell_type": "code",
      "source": [
        "# Question 5- write a code to find all occurrences of a given sub string within another string\n",
        "\n",
        "def find_all_occurrences(main_string, substring):\n",
        "  \"\"\"\n",
        "  Finds all occurrences of a substring within a main string.\n",
        "\n",
        "  Args:\n",
        "    main_string: The string to search within.\n",
        "    substring: The substring to search for.\n",
        "\n",
        "  Returns:\n",
        "    A list of indices where the substring occurs in the main string.\n",
        "  \"\"\"\n",
        "\n",
        "  occurrences = []\n",
        "  index = 0\n",
        "  while True:\n",
        "    index = main_string.find(substring, index)\n",
        "    if index == -1:\n",
        "      break\n",
        "    occurrences.append(index)\n",
        "    index += len(substring)\n",
        "  return occurrences\n",
        "\n",
        "main_string = \"This is a test string with multiple occurrences of the word test.\"\n",
        "substring = \"test\"\n",
        "occurrences = find_all_occurrences(main_string, substring)\n",
        "print(occurrences)  # Output: [10, 39]\n"
      ],
      "metadata": {
        "id": "w--PvzoiFcvZ"
      },
      "execution_count": null,
      "outputs": []
    },
    {
      "cell_type": "code",
      "source": [
        "# Question 6- write a code to perform basic string compression using the counts of repeated characters\n",
        "\n",
        "def compress_string(s):\n",
        "  if not s:\n",
        "    return \"\"\n",
        "\n",
        "  compressed_string = \"\"\n",
        "  count = 1\n",
        "  current_char = s[0]\n",
        "\n",
        "  for i in range(1, len(s)):\n",
        "    if s[i] == current_char:\n",
        "      count += 1\n",
        "    else:\n",
        "      compressed_string += current_char + (str(count) if count > 1 else \"\")\n",
        "      current_char = s[i]\n",
        "      count = 1\n",
        "\n",
        "  # Add the last character and its count\n",
        "  compressed_string += current_char + (str(count) if count > 1 else \"\")\n",
        "\n",
        "  return compressed_string\n",
        "\n",
        "# Example usage\n",
        "string = \"aabcccccaaa\"\n",
        "compressed_string = compress_string(string)\n",
        "print(compressed_string)  # Output: a2bc5a3\n"
      ],
      "metadata": {
        "id": "U5MiJsmSGD9B"
      },
      "execution_count": null,
      "outputs": []
    },
    {
      "cell_type": "code",
      "source": [
        "# Question 7- write a code to determine if a string has all unique characters\n",
        "\n",
        "def has_unique_chars(s):\n",
        "  return len(set(s)) == len(s)\n",
        "\n",
        "string1 = \"abcdefg\"\n",
        "string2 = \"hello\"\n",
        "\n",
        "print(has_unique_chars(string1))  # Output: True\n",
        "print(has_unique_chars(string2))  # Output: False\n"
      ],
      "metadata": {
        "id": "PVpaKFSyGbaj"
      },
      "execution_count": null,
      "outputs": []
    },
    {
      "cell_type": "code",
      "source": [
        "# Question 8- write a code to convert a given string to uppercase or lowercase\n",
        "\n",
        "# To uppercase\n",
        "string = \"hello world\"\n",
        "uppercase_string = string.upper()\n",
        "print(uppercase_string)  # Output: HELLO WORLD\n",
        "\n",
        "# To lowercase\n",
        "string = \"HELLO WORLD\"\n",
        "lowercase_string = string.lower()\n",
        "print(lowercase_string)  # Output: hello world\n"
      ],
      "metadata": {
        "id": "jwVKkh0qGpB6"
      },
      "execution_count": null,
      "outputs": []
    },
    {
      "cell_type": "code",
      "source": [
        "# Question9- write a code to count the number of words in a string\n",
        "\n",
        "def count_words(s):\n",
        "  words = s.split()\n",
        "  return len(words)\n",
        "\n",
        "string = \"This is a sentence with seven words.\"\n",
        "word_count = count_words(string)\n",
        "print(word_count)  # Output: 7\n"
      ],
      "metadata": {
        "id": "YGilpQfXG8_i"
      },
      "execution_count": null,
      "outputs": []
    },
    {
      "cell_type": "code",
      "source": [
        "# Question 10- write a code to concatenate two string without using + operator\n",
        "\n",
        "def concat_strings(str1, str2):\n",
        "  result = \"\".join([str1, str2])\n",
        "  return result\n",
        "\n",
        "string1 = \"Hello\"\n",
        "string2 = \" World\"\n",
        "concatenated_string = concat_strings(string1, string2)\n",
        "print(concatenated_string)  # Output: Hello World\n"
      ],
      "metadata": {
        "id": "HHu_LuWqHJpS"
      },
      "execution_count": null,
      "outputs": []
    },
    {
      "cell_type": "code",
      "source": [
        "# Question 11-  write a code to remove all occurrences of a specific element from a list\n",
        "\n",
        "def remove_all_occurrences(lst, element):\n",
        "  return [x for x in lst if x != element]\n",
        "\n",
        "# Example usage:\n",
        "my_list = [1, 2, 3, 2, 4, 2, 5]\n",
        "element_to_remove = 2\n",
        "new_list = remove_all_occurrences(my_list, element_to_remove)\n",
        "print(new_list)  # Output: [1, 3, 4, 5]\n"
      ],
      "metadata": {
        "id": "7-e2kyAwHa6H"
      },
      "execution_count": null,
      "outputs": []
    },
    {
      "cell_type": "code",
      "source": [
        "# Question 12- implement a code to find the second largest number in a given list of integers\n",
        "\n",
        "def find_second_largest(nums):\n",
        "  if len(nums) < 2:\n",
        "    return None  # Not enough elements\n",
        "\n",
        "  largest = max(nums[0], nums[1])\n",
        "  second_largest = min(nums[0], nums[1])\n",
        "\n",
        "  for num in nums[2:]:\n",
        "    if num > largest:\n",
        "      second_largest = largest\n",
        "      largest = num\n",
        "    elif num > second_largest and num != largest:\n",
        "      second_largest = num\n",
        "\n",
        "  return second_largest\n",
        "\n",
        "# Example usage:\n",
        "numbers = [5, 2, 8, 1, 9, 3]\n",
        "second_largest_num = find_second_largest(numbers)\n",
        "print(second_largest_num)  # Output: 8\n"
      ],
      "metadata": {
        "id": "DuDID4KVHwQT"
      },
      "execution_count": null,
      "outputs": []
    },
    {
      "cell_type": "code",
      "source": [
        "# question 13- create a code to count the occurrence of each elements in a list and return a dictionary within elements as key and their counts as values\n",
        "\n",
        "def count_elements(lst):\n",
        "  counts = {}\n",
        "  for element in lst:\n",
        "    if element in counts:\n",
        "      counts[element] += 1\n",
        "    else:\n",
        "      counts[element] = 1\n",
        "  return counts\n",
        "\n",
        "# Example usage:\n",
        "my_list = [1, 2, 3, 2, 4, 2, 5, 1]\n",
        "element_counts = count_elements(my_list)\n",
        "print(element_counts)  # Output: {1: 2, 2: 3, 3: 1, 4: 1, 5: 1}\n"
      ],
      "metadata": {
        "id": "mZbEHZI6H_1a"
      },
      "execution_count": null,
      "outputs": []
    },
    {
      "cell_type": "code",
      "source": [
        "# question 14-- write a code to reverse a list in-place without using any build in reverse functions\n",
        "\n",
        "def reverse_list_in_place(lst):\n",
        "  left = 0\n",
        "  right = len(lst) - 1\n",
        "  while left < right:\n",
        "    lst[left], lst[right] = lst[right], lst[left]\n",
        "    left += 1\n",
        "    right -= 1\n"
      ],
      "metadata": {
        "id": "2OItxd_RIh9X"
      },
      "execution_count": null,
      "outputs": []
    },
    {
      "cell_type": "code",
      "source": [
        "# question 15- implement a code to find and remove duplicates from a list while preserving the original order of elements\n",
        "\n",
        "def remove_duplicates_preserve_order(lst):\n",
        "  seen = set()\n",
        "  result = []\n",
        "  for item in lst:\n",
        "    if item not in seen:\n",
        "      seen.add(item)\n",
        "      result.append(item)\n",
        "  return result\n",
        "\n",
        "# Example usage:\n",
        "my_list = [1, 2, 3, 2, 4, 2, 5, 1]\n",
        "new_list = remove_duplicates_preserve_order(my_list)\n",
        "print(new_list)  # Output: [1, 2, 3, 4, 5]\n"
      ],
      "metadata": {
        "id": "7lp111S4I1Zs"
      },
      "execution_count": null,
      "outputs": []
    },
    {
      "cell_type": "code",
      "source": [
        "# question 16- create a code to check if a given list is sorted {either in ascending or descending order} or not\n",
        "\n",
        "def is_sorted(lst):\n",
        "  return lst == sorted(lst) or lst == sorted(lst, reverse=True)\n",
        "\n",
        "# Example usage:\n",
        "list1 = [1, 2, 3, 4, 5]\n",
        "list2 = [5, 4, 3, 2, 1]\n",
        "list3 = [1, 3, 2, 4, 5]\n",
        "\n",
        "print(is_sorted(list1))  # Output: True\n",
        "print(is_sorted(list2))  # Output: True\n",
        "print(is_sorted(list3))  # Output: False\n"
      ],
      "metadata": {
        "id": "2DBTTUTdJbj4"
      },
      "execution_count": null,
      "outputs": []
    },
    {
      "cell_type": "code",
      "source": [
        "# question 17 -write a code to merge two sorted list in a single sorted list\n",
        "\n",
        "def merge_sorted_lists(list1, list2):\n",
        "  \"\"\"Merges two sorted lists into a single sorted list.\"\"\"\n",
        "  result = []\n",
        "  i = 0\n",
        "  j = 0\n",
        "\n",
        "  while i < len(list1) and j < len(list2):\n",
        "    if list1[i] <= list2[j]:\n",
        "      result.append(list1[i])\n",
        "      i += 1\n",
        "    else:\n",
        "      result.append(list2[j])\n",
        "      j += 1\n",
        "\n",
        "  # Add any remaining elements from list1 or list2\n",
        "  result.extend(list1[i:])\n",
        "  result.extend(list2[j:])\n",
        "\n",
        "  return result\n",
        "\n",
        "# Example usage:\n",
        "list1 = [1, 3, 5, 7]\n",
        "list2 = [2, 4, 6, 8]\n",
        "merged_list = merge_sorted_lists(list1, list2)\n",
        "print(merged_list)  # Output: [1, 2, 3, 4, 5, 6, 7, 8]\n"
      ],
      "metadata": {
        "id": "mVpb1TV4Jw_8"
      },
      "execution_count": null,
      "outputs": []
    },
    {
      "cell_type": "code",
      "source": [
        "# question 18 - implement a code to find the intersection of two given lists\n",
        "\n",
        "def find_intersection(list1, list2):\n",
        "  \"\"\"Finds the intersection of two lists.\"\"\"\n",
        "  return list(set(list1) & set(list2))\n",
        "\n",
        "# Example usage:\n",
        "list1 = [1, 2, 3, 4, 5]\n",
        "list2 = [3, 5, 6, 7, 8]\n",
        "intersection = find_intersection(list1, list2)\n",
        "print(intersection)  # Output: [3, 5]\n"
      ],
      "metadata": {
        "id": "3n6EtjiBKCXL"
      },
      "execution_count": null,
      "outputs": []
    },
    {
      "cell_type": "code",
      "source": [
        "# question 19- create a code to find the union of two list without duplicates\n",
        "\n",
        "def find_union(list1, list2):\n",
        "  \"\"\"Finds the union of two lists without duplicates.\"\"\"\n",
        "  return list(set(list1) | set(list2))\n",
        "\n",
        "# Example usage:\n",
        "list1 = [1, 2, 3, 4, 5]\n",
        "list2 = [3, 5, 6, 7, 8]\n",
        "union = find_union(list1, list2)\n",
        "print(union)  # Output: [1, 2, 3, 4, 5, 6, 7, 8]\n"
      ],
      "metadata": {
        "id": "lGPVi3uFKSwh"
      },
      "execution_count": null,
      "outputs": []
    },
    {
      "cell_type": "code",
      "source": [
        "# Question 20 -write a code to shuffle a given list randomly without using any build in shuffle function\n",
        "\n",
        "import random\n",
        "\n",
        "def shuffle_list(lst):\n",
        "  n = len(lst)\n",
        "  for i in range(n - 1, 0, -1):\n",
        "    j = random.randint(0, i)\n",
        "    lst[i], lst[j] = lst[j], lst[i]\n",
        "\n",
        "# Example usage:\n",
        "my_list = [1, 2, 3, 4, 5]\n",
        "shuffle_list(my_list)\n",
        "print(my_list)  # Output: [3, 1, 5, 2, 4] (randomly shuffled)\n"
      ],
      "metadata": {
        "id": "xBpLVG82KpVX"
      },
      "execution_count": null,
      "outputs": []
    },
    {
      "cell_type": "code",
      "source": [
        "# question 20 -write a code that takes two tuple as input and return a new tuple containing elements that are common to both input tuple\n",
        "\n",
        "def find_common_elements(tuple1, tuple2):\n",
        "  return tuple(set(tuple1) & set(tuple2))\n",
        "\n",
        "# Example usage:\n",
        "tuple1 = (1, 2, 3, 4, 5)\n",
        "tuple2 = (3, 5, 6, 7, 8)\n",
        "common_elements = find_common_elements(tuple1, tuple2)\n",
        "print(common_elements)  # Output: (3, 5)\n"
      ],
      "metadata": {
        "id": "F43_i_53Lye1"
      },
      "execution_count": null,
      "outputs": []
    },
    {
      "cell_type": "code",
      "source": [
        "# Question 22- create a code that promotes the user to enter two sets of integers separated by commas then print intersection of these two sets\n",
        "\n",
        "set1_str = input(\"Enter the first set of integers separated by commas: \")\n",
        "set2_str = input(\"Enter the second set of integers separated by commas: \")\n",
        "\n",
        "set1 = set(map(int, set1_str.split(',')))\n",
        "set2 = set(map(int, set2_str.split(',')))\n",
        "\n",
        "intersection = set1.intersection(set2)\n",
        "\n",
        "print(\"The intersection of the two sets is:\", intersection)\n"
      ],
      "metadata": {
        "id": "OPiglSxtMKbD"
      },
      "execution_count": null,
      "outputs": []
    },
    {
      "cell_type": "code",
      "source": [
        "#  question 23write a code to concatenate two tuples. the function should take two tuples as input and return a new tuple containing elements from both input tuples\n",
        "\n",
        "def concatenate_tuples(tuple1, tuple2):\n",
        "  return tuple1 + tuple2\n"
      ],
      "metadata": {
        "id": "wW2_66hsMknk"
      },
      "execution_count": null,
      "outputs": []
    },
    {
      "cell_type": "code",
      "source": [
        "# question 24 - develop a code that prompts the user to input two sets of strings then print the elements that are present in the first set but not in second set\n",
        "\n",
        "set1_str = input(\"Enter the first set of strings separated by commas: \")\n",
        "set2_str = input(\"Enter the second set of strings separated by commas: \")\n",
        "\n",
        "set1 = set(set1_str.split(','))\n",
        "set2 = set(set2_str.split(','))\n",
        "\n",
        "difference = set1.difference(set2)\n",
        "\n",
        "print(\"The elements present in the first set but not in the second set are:\", difference)\n"
      ],
      "metadata": {
        "id": "5dLXLt4aNBGg"
      },
      "execution_count": null,
      "outputs": []
    },
    {
      "cell_type": "code",
      "source": [
        "# question 25- create a code that takes a tuple and two integers as input .the function should return a new tuple containing elements from the original tuple within the specified range of indices\n",
        "\n",
        "def extract_tuple_range(original_tuple, start_index, end_index):\n",
        "  return original_tuple[start_index:end_index]\n",
        "\n",
        "# Example usage:\n",
        "my_tuple = (1, 2, 3, 4, 5, 6)\n",
        "start_index = 1\n",
        "end_index = 4\n",
        "new_tuple = extract_tuple_range(my_tuple, start_index, end_index)\n",
        "print(new_tuple)  # Output: (2, 3, 4)\n"
      ],
      "metadata": {
        "id": "0a4SG124NqJ7"
      },
      "execution_count": null,
      "outputs": []
    },
    {
      "cell_type": "code",
      "source": [
        "# Question 26 - write a code that prompts the user to input two sets of characters then prints the union of these two sets\n",
        "\n",
        "set1_str = input(\"Enter the first set of characters separated by commas: \")\n",
        "set2_str = input(\"Enter the second set of characters separated by commas: \")\n",
        "\n",
        "set1 = set(set1_str.split(','))\n",
        "set2 = set(set2_str.split(','))\n",
        "\n",
        "union = set1.union(set2)\n",
        "\n",
        "print(\"The union of the two sets is:\", union)\n"
      ],
      "metadata": {
        "id": "sr-oAK16O8pA"
      },
      "execution_count": null,
      "outputs": []
    },
    {
      "cell_type": "code",
      "source": [
        "# question 27 develop a code that takes a tuple of integers as input the function should return the maximum and minimum values from the tuple using tuple unpacking\n",
        "\n",
        "def find_min_max(numbers):\n",
        "  min_num, max_num = numbers[0], numbers[0]\n",
        "  for num in numbers:\n",
        "    if num < min_num:\n",
        "      min_num = num\n",
        "    elif num > max_num:\n",
        "      max_num = num\n",
        "  return min_num, max_num\n",
        "\n",
        "# Example usage\n",
        "numbers_tuple = (3, 1, 4, 1, 5, 9, 2, 6)\n",
        "min_value, max_value = find_min_max(numbers_tuple)\n",
        "print(\"Minimum value:\", min_value)\n",
        "print(\"Maximum value:\", max_value)\n"
      ],
      "metadata": {
        "id": "sm-PMWagPQcZ"
      },
      "execution_count": null,
      "outputs": []
    },
    {
      "cell_type": "code",
      "source": [
        "# question 28 create a code that defines two sets of integers . then print the union , intersection and difference of these two sets\n",
        "\n",
        "# Define two sets of integers\n",
        "set1 = {1, 2, 3, 4, 5}\n",
        "set2 = {3, 5, 6, 7, 8}\n",
        "\n",
        "# Calculate the union\n",
        "union_set = set1.union(set2)\n",
        "print(\"Union of the two sets:\", union_set)\n",
        "\n",
        "# Calculate the intersection\n",
        "intersection_set = set1.intersection(set2)\n",
        "print(\"Intersection of the two sets:\", intersection_set)\n",
        "\n",
        "# Calculate the difference (set1 - set2)\n",
        "difference_set = set1.difference(set2)\n",
        "print(\"Difference of set1 and set2:\", difference_set)\n"
      ],
      "metadata": {
        "id": "MifCHxCAPsRi"
      },
      "execution_count": null,
      "outputs": []
    },
    {
      "cell_type": "code",
      "source": [
        "# question 29 write a code that make a tuple and an element as input .the function should the count of occurrences of the given element in the tuple\n",
        "\n",
        "def count_occurrences(my_tuple, element):\n",
        "  return my_tuple.count(element)\n",
        "\n",
        "# Example usage:\n",
        "my_tuple = (1, 2, 3, 2, 4, 2, 5)\n",
        "element_to_count = 2\n",
        "count = count_occurrences(my_tuple, element_to_count)\n",
        "print(f\"The element {element_to_count} occurs {count} times in the tuple.\")\n"
      ],
      "metadata": {
        "id": "_CoVmdzoQEzq"
      },
      "execution_count": null,
      "outputs": []
    },
    {
      "cell_type": "code",
      "source": [
        "# question 30 -develops a code that prompts the user to input two sets of string then print the symmetric difference of these two sets\n",
        "\n",
        "set1_str = input(\"Enter the first set of strings separated by commas: \")\n",
        "set2_str = input(\"Enter the second set of strings separated by commas: \")\n",
        "\n",
        "set1 = set(set1_str.split(','))\n",
        "set2 = set(set2_str.split(','))\n",
        "\n",
        "symmetric_difference = set1.symmetric_difference(set2)\n",
        "\n",
        "print(\"The symmetric difference of the two sets is:\", symmetric_difference)\n"
      ],
      "metadata": {
        "id": "5ij4E9dhQcQ_"
      },
      "execution_count": null,
      "outputs": []
    },
    {
      "cell_type": "code",
      "source": [
        "# question 31 - write a code that takes a list of words as input and return a dictionary where the keys are unique words and the values are the frequencies of those words in the input list\n",
        "\n",
        "def word_frequencies(word_list):\n",
        "  \"\"\"\n",
        "  Counts the frequency of each unique word in a list.\n",
        "\n",
        "  Args:\n",
        "    word_list: A list of words.\n",
        "\n",
        "  Returns:\n",
        "    A dictionary where keys are unique words and values are their frequencies.\n",
        "  \"\"\"\n",
        "  word_freq = {}\n",
        "  for word in word_list:\n",
        "    word = word.lower()  # Convert to lowercase for case-insensitive counting\n",
        "    if word in word_freq:\n",
        "      word_freq[word] += 1\n",
        "    else:\n",
        "      word_freq[word] = 1\n",
        "  return word_freq\n",
        "\n",
        "# Example usage\n",
        "words = [\"apple\", \"banana\", \"orange\", \"apple\", \"grape\", \"banana\"]\n",
        "frequencies = word_frequencies(words)\n",
        "print(frequencies)  # Output: {'apple': 2, 'banana': 2, 'orange': 1, 'grape': 1}\n"
      ],
      "metadata": {
        "id": "-redsQPdQzZG"
      },
      "execution_count": null,
      "outputs": []
    },
    {
      "cell_type": "code",
      "source": [
        "# Question 32-  write a code that takes two dictionaries as input and merges them into a single dictionary if there are common keys the value should be added together\n",
        "\n",
        "def merge_dictionaries(dict1, dict2):\n",
        "  merged_dict = dict1.copy()\n",
        "  for key, value in dict2.items():\n",
        "    if key in merged_dict:\n",
        "      merged_dict[key] += value\n",
        "    else:\n",
        "      merged_dict[key] = value\n",
        "  return merged_dict\n",
        "\n",
        "# Example usage\n",
        "dict1 = {'a': 10, 'b': 20, 'c': 30}\n",
        "dict2 = {'b': 15, 'd': 40}\n",
        "merged_dict = merge_dictionaries(dict1, dict2)\n",
        "print(merged_dict)  # Output: {'a': 10, 'b': 35, 'c': 30, 'd': 40}\n"
      ],
      "metadata": {
        "id": "TpJSJgZPRSaW"
      },
      "execution_count": null,
      "outputs": []
    },
    {
      "cell_type": "code",
      "source": [
        "# question 33 write a code to access a value in a nested dictionary . the function should take the dictionary and a list of keys as input and return the corresponding value if any of the keys do not exist in dictionary the function should return none\n",
        "\n",
        "def access_nested_value(nested_dict, keys):\n",
        "  current_dict = nested_dict\n",
        "  for key in keys:\n",
        "    if key in current_dict:\n",
        "      current_dict = current_dict[key]\n",
        "    else:\n",
        "      return None\n",
        "  return current_dict\n"
      ],
      "metadata": {
        "id": "xQI78LZsRuew"
      },
      "execution_count": null,
      "outputs": []
    },
    {
      "cell_type": "code",
      "source": [
        "# Question 34 write a code that takes a dictionary as input and returns a sorted version of it based on the values you can choose whether to sort in ascending or descending order\n",
        "\n",
        "def sort_dictionary_by_values(input_dict, ascending=True):\n",
        "  \"\"\"\n",
        "  Sorts a dictionary by its values.\n",
        "\n",
        "  Args:\n",
        "    input_dict: The dictionary to sort.\n",
        "    ascending: If True, sorts in ascending order; otherwise, in descending order.\n",
        "\n",
        "  Returns:\n",
        "    A new dictionary sorted by values.\n",
        "  \"\"\"\n",
        "  sorted_items = sorted(input_dict.items(), key=lambda item: item[1], reverse=not ascending)\n",
        "  return dict(sorted_items)\n",
        "\n",
        "# Example usage\n",
        "my_dict = {'apple': 3, 'banana': 1, 'cherry': 2}\n",
        "\n",
        "# Sort in ascending order\n",
        "sorted_dict_asc = sort_dictionary_by_values(my_dict)\n",
        "print(sorted_dict_asc)  # Output: {'banana': 1, 'cherry': 2, 'apple': 3}\n",
        "\n",
        "# Sort in descending order\n",
        "sorted_dict_desc = sort_dictionary_by_values(my_dict, ascending=False)\n",
        "print(sorted_dict_desc)  # Output: {'apple': 3, 'cherry': 2, 'banana': 1}\n"
      ],
      "metadata": {
        "id": "hMneAnX_STJ2"
      },
      "execution_count": null,
      "outputs": []
    },
    {
      "cell_type": "code",
      "source": [
        "# Question 35- write a code that inverts a dictionary swapping keys and values ensuring that the inverted dictionary correctly handles cases where multiple keys have the same value by storing the keys as a list in inverted dictionary\n",
        "\n",
        "def invert_dictionary(input_dict):\n",
        "  inverted_dict = {}\n",
        "  for key, value in input_dict.items():\n",
        "    if value not in inverted_dict:\n",
        "      inverted_dict[value] = [key]\n",
        "    else:\n",
        "      inverted_dict[value].append(key)\n",
        "  return inverted_dict\n",
        "\n",
        "# Example usage\n",
        "my_dict = {'apple': 3, 'banana': 1, 'cherry': 2, 'date': 1}\n",
        "inverted_dict = invert_dictionary(my_dict)\n",
        "print(inverted_dict)  # Output: {3: ['apple'], 1: ['banana', 'date'], 2: ['cherry']}\n"
      ],
      "metadata": {
        "id": "bsgDmwXTSuVr"
      },
      "execution_count": null,
      "outputs": []
    }
  ]
}