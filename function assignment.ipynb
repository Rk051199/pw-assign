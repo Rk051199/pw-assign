{
  "nbformat": 4,
  "nbformat_minor": 0,
  "metadata": {
    "colab": {
      "provenance": []
    },
    "kernelspec": {
      "name": "python3",
      "display_name": "Python 3"
    },
    "language_info": {
      "name": "python"
    }
  },
  "cells": [
    {
      "cell_type": "code",
      "execution_count": null,
      "metadata": {
        "id": "vxfY2CyBsjBz"
      },
      "outputs": [],
      "source": [
        "Question 1- write a function that takes a list of number as input and return the sum of all even numbers in the list\n",
        "\n",
        "def sum_of_even_numbers(numbers):\n",
        "  \"\"\"\n",
        "  This function takes a list of numbers as input and returns the sum of all even numbers in the list.\n",
        "  \"\"\"\n",
        "  sum = 0\n",
        "  for num in numbers:\n",
        "    if num % 2 == 0:\n",
        "      sum += num\n",
        "  return sum\n"
      ]
    },
    {
      "cell_type": "code",
      "source": [
        "# question 2- create a python function that accepts a string and return the reverse of that string\n",
        "\n",
        "def reverse_string(s):\n",
        "  \"\"\"\n",
        "  This function accepts a string and returns the reverse of that string.\n",
        "  \"\"\"\n",
        "  return s[::-1]\n"
      ],
      "metadata": {
        "id": "6Kp4Lzq1yicx"
      },
      "execution_count": null,
      "outputs": []
    },
    {
      "cell_type": "code",
      "source": [
        "# Question 3- implement a python function that takes a list of integers and return a mew list containing the sequence of each number\n",
        "\n",
        "def find_sequence(numbers):\n",
        "  \"\"\"\n",
        "  This function takes a list of integers and returns a new list containing the sequence of each number.\n",
        "  \"\"\"\n",
        "  result = []\n",
        "  for num in numbers:\n",
        "    temp = []\n",
        "    for i in range(1, num + 1):\n",
        "      temp.append(i)\n",
        "    result.append(temp)\n",
        "  return result\n",
        "\n"
      ],
      "metadata": {
        "id": "hrTyHQRdyyj5"
      },
      "execution_count": null,
      "outputs": []
    },
    {
      "cell_type": "code",
      "source": [
        "# Question 4 write a python function that checks if a given number is prime or not from 1 to 200\n",
        "\n",
        "def is_prime(n):\n",
        "  \"\"\"\n",
        "  This function checks if a given number is prime or not.\n",
        "  \"\"\"\n",
        "  if n <= 1:\n",
        "    return False\n",
        "  if n <= 3:\n",
        "    return True\n",
        "  if n % 2 == 0 or n % 3 == 0:\n",
        "    return False\n",
        "  i = 5\n",
        "  while i * i <= n:\n",
        "    if n % i == 0 or n % (i + 2) == 0:\n",
        "      return False\n",
        "    i += 6\n",
        "  return True\n",
        "\n",
        "# Check prime numbers from 1 to 200\n",
        "for num in range(1, 201):\n",
        "  if is_prime(num):\n",
        "    print(num, \"is a prime number\")\n"
      ],
      "metadata": {
        "id": "mxWIiTvfzI-m"
      },
      "execution_count": null,
      "outputs": []
    },
    {
      "cell_type": "code",
      "source": [
        "# Question 5 write a iterator class in python that generates the fibonacci  sequence up to a specified number of terms\n",
        "\n",
        "class FibonacciIterator:\n",
        "    \"\"\"\n",
        "    This class generates the Fibonacci sequence up to a specified number of terms.\n",
        "    \"\"\"\n",
        "    def __init__(self, n):\n",
        "        self.n = n\n",
        "        self.count = 0\n",
        "        self.a = 0\n",
        "        self.b = 1\n",
        "\n",
        "    def __iter__(self):\n",
        "        return self\n",
        "\n",
        "    def __next__(self):\n",
        "        if self.count < self.n:\n",
        "            if self.count == 0:\n",
        "                self.count += 1\n",
        "                return self.a\n",
        "            elif self.count == 1:\n",
        "                self.count += 1\n",
        "                return self.b\n",
        "            else:\n",
        "                next_fib = self.a + self.b\n",
        "                self.a = self.b\n",
        "                self.b = next_fib\n",
        "                self.count += 1\n",
        "                return next_fib\n",
        "        else:\n",
        "            raise StopIteration\n"
      ],
      "metadata": {
        "id": "WnPUiZvi0R32"
      },
      "execution_count": null,
      "outputs": []
    },
    {
      "cell_type": "code",
      "source": [
        "# Question 6- write a generator function in python that yields the power of 2 upto a given exponent\n",
        "\n",
        "def power_of_two_generator(exponent):\n",
        "  \"\"\"\n",
        "  This generator function yields the power of 2 up to a given exponent.\n",
        "  \"\"\"\n",
        "  for i in range(exponent + 1):\n",
        "    yield 2 ** i\n"
      ],
      "metadata": {
        "id": "T4wHqpnXz0BX"
      },
      "execution_count": null,
      "outputs": []
    },
    {
      "cell_type": "code",
      "source": [
        "# Question 7- implement a generator that reads a file line by line and yields each line as a string\n",
        "\n",
        "def read_file_line_by_line(filename):\n",
        "  \"\"\"\n",
        "  This generator function reads a file line by line and yields each line as a string.\n",
        "  \"\"\"\n",
        "  with open(filename, 'r') as file:\n",
        "    for line in file:\n",
        "      yield line.strip()\n"
      ],
      "metadata": {
        "id": "VqcLZjaE01nR"
      },
      "execution_count": null,
      "outputs": []
    },
    {
      "cell_type": "code",
      "source": [
        "# Question 8- use a lambda function in python to sort a list of tuple based on the second element of each tuple\n",
        "\n",
        "data = [('apple', 3), ('banana', 1), ('cherry', 2)]\n",
        "sorted_data = sorted(data, key=lambda x: x[1])\n",
        "print(sorted_data)\n"
      ],
      "metadata": {
        "id": "O_YNVfbR1ICQ"
      },
      "execution_count": null,
      "outputs": []
    },
    {
      "cell_type": "code",
      "source": [
        "# Question 9- write a program that uses map() to convert a list of temperature from celsius to farenheit\n",
        "\n",
        "def celsius_to_fahrenheit(celsius):\n",
        "  \"\"\"\n",
        "  This function converts a temperature from Celsius to Fahrenheit.\n",
        "  \"\"\"\n",
        "  return (celsius * 9/5) + 32\n",
        "\n",
        "# Example usage\n",
        "temperatures_celsius = [0, 10, 20, 30]\n",
        "temperatures_fahrenheit = list(map(celsius_to_fahrenheit, temperatures_celsius))\n",
        "print(temperatures_fahrenheit)\n"
      ],
      "metadata": {
        "id": "W_A7RfQZ1f_w"
      },
      "execution_count": null,
      "outputs": []
    },
    {
      "cell_type": "code",
      "source": [
        "# Question  11- create a python program that uses filter() to remove all the vowels from a given string\n",
        "\n",
        "def remove_vowels(char):\n",
        "  vowels = \"aeiouAEIOU\"\n",
        "  if char not in vowels:\n",
        "    return True\n",
        "  else:\n",
        "    return False\n",
        "\n",
        "# Example usage\n",
        "string = \"Hello World\"\n",
        "result = filter(remove_vowels, string)\n",
        "filtered_string = ''.join(list(result))\n",
        "print(filtered_string)\n"
      ],
      "metadata": {
        "id": "k3SMmNXk11IT"
      },
      "execution_count": null,
      "outputs": []
    }
  ]
}