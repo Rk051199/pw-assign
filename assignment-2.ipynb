{
  "nbformat": 4,
  "nbformat_minor": 0,
  "metadata": {
    "colab": {
      "provenance": []
    },
    "kernelspec": {
      "name": "python3",
      "display_name": "Python 3"
    },
    "language_info": {
      "name": "python"
    }
  },
  "cells": [
    {
      "cell_type": "code",
      "execution_count": null,
      "metadata": {
        "id": "vYeYieNH9J46"
      },
      "outputs": [],
      "source": [
        "# Question -1 Discuss string slicing and provide examples\n",
        "\n",
        "# for returning  a range of characters we usee the slice syntax.\n",
        "# in which we specify  the start index and the end index, separated by a colon, to return a part of the string.\n",
        "\n",
        "b = \"Hello, World!\"\n",
        "print(b[2:5]) # llo\n",
        "\n",
        "\n"
      ]
    },
    {
      "cell_type": "code",
      "source": [
        "# Question 2- explain the key feature of list in python\n",
        "\n",
        "# Lists are used to store multiple items in a single variable.\n",
        "# Lists are created using square brackets:\n",
        "# List items are ordered, changeable, and allow duplicate values.\n",
        "# List items are indexed, the first item has index [0], the second item has index [1] etc.\n",
        "# Lists can contain different data types:\n",
        "\n",
        "list1 = [\"abc\", 34, True, 40, \"male\"]\n",
        "\n",
        "print(list1) # ['abc', 34, True, 40, 'male']"
      ],
      "metadata": {
        "id": "WugAxXd691GT"
      },
      "execution_count": null,
      "outputs": []
    },
    {
      "cell_type": "code",
      "source": [
        "# Question3 - Describe how to access , modify  and delete elements in a list with example\n",
        "\n",
        "# Accessing Elements: You can access individual elements in a list using their index.\n",
        "\n",
        "my_list = [10, 20, 30, 40, 50]\n",
        "\n",
        "print(my_list[0])  # Output: 10 (accessing the first element)\n",
        "print(my_list[2])  # Output: 30 (accessing the third element)\n",
        "print(my_list[-1]) # Output: 50 (accessing the last element)\n",
        "\n",
        "\n",
        "# Modifying Elements: You can change the value of an element by assigning a new value to it.\n",
        "\n",
        "my_list[1] = 25  # Modifying the second element\n",
        "\n",
        "print(my_list)  # Output: [10, 25, 30, 40, 50]\n",
        "\n",
        "\n",
        "# Deleting Elements: You can remove elements from a list using the del keyword or the remove() method.\n",
        "\n",
        "del my_list[3]  # Deleting the fourth element using del\n",
        "\n",
        "print(my_list)  # Output: [10, 25, 30, 50]\n",
        "\n",
        "my_list.remove(30)  # Deleting the element with value 30 using remove()\n",
        "\n",
        "print(my_list)  # Output: [10, 25, 50]\n"
      ],
      "metadata": {
        "id": "Cr8_2bYw-nGe"
      },
      "execution_count": null,
      "outputs": []
    },
    {
      "cell_type": "code",
      "source": [
        "# Question 4- compare and contrast tuple and list with example\n",
        "\n",
        "# Lists\n",
        "# - Mutable (can be changed after creation)\n",
        "# - Defined using square brackets []\n",
        "\n",
        "my_list = [1, 2, 3]\n",
        "my_list[0] = 10  # Modifying a list element\n",
        "print(my_list)  # Output: [10, 2, 3]\n",
        "\n",
        "# Tuples\n",
        "# - Immutable (cannot be changed after creation)\n",
        "# - Defined using parentheses ()\n",
        "\n",
        "my_tuple = (1, 2, 3)\n",
        "# my_tuple[0] = 10  # This would raise an error as tuples are immutable\n",
        "print(my_tuple)  # Output: (1, 2, 3)\n"
      ],
      "metadata": {
        "id": "QEq_wrC5jtmK"
      },
      "execution_count": null,
      "outputs": []
    },
    {
      "cell_type": "code",
      "source": [
        "# question 5 describe the key feature of set and provide example of their use\n",
        "\n",
        "# Key Features of Sets:\n",
        "# 1. Unordered: Sets are unordered collections, meaning the elements have no defined order.\n",
        "# 2. Unique Elements: Sets do not allow duplicate values. If you try to add a duplicate, it will be ignored.\n",
        "# 3. Mutable: You can add or remove elements from a set after it's created.\n",
        "# 4. Use Curly Braces: Sets are defined using curly braces {}.\n",
        "\n",
        "# Example 1: Creating a set\n",
        "my_set = {1, 2, 3, 4, 4, 5}\n",
        "print(my_set)  # Output: {1, 2, 3, 4, 5} (duplicates are removed)\n",
        "\n",
        "# Example 2: Adding and removing elements\n",
        "my_set.add(6)\n",
        "my_set.remove(3)\n",
        "print(my_set)  # Output: {1, 2, 4, 5, 6}\n",
        "\n",
        "# Example 3: Common set operations\n",
        "set1 = {1, 2, 3}\n",
        "set2 = {3, 4, 5}\n",
        "\n",
        "# Union (all elements from both sets)\n",
        "print(set1 | set2)  # Output: {1, 2, 3, 4, 5}\n",
        "\n",
        "# Intersection (common elements)\n",
        "print(set1 & set2)  # Output: {3}\n",
        "\n",
        "# Difference (elements in set1 but not in set2)\n",
        "print(set1 - set2)  # Output: {1, 2}\n"
      ],
      "metadata": {
        "id": "aF6hKeohki8S"
      },
      "execution_count": null,
      "outputs": []
    },
    {
      "cell_type": "code",
      "source": [
        "# question 6-  discuss the use cases of tuple and sets in python programming\n",
        "\n",
        "# Tuples:\n",
        "\n",
        "# 1. Data Integrity:\n",
        "#    - When you need to store data that should not be modified after creation.\n",
        "#    - Example: Representing coordinates (x, y), database records.\n",
        "\n",
        "coordinates = (10, 20)  # Coordinates should remain fixed\n",
        "\n",
        "# 2. Dictionary Keys:\n",
        "#    - Tuples can be used as keys in dictionaries because they are immutable.\n",
        "#    - Example:\n",
        "\n",
        "data = {('Alice', 30): 'user1', ('Bob', 25): 'user2'}\n",
        "\n",
        "\n",
        "# Sets:\n",
        "\n",
        "# 1. Removing Duplicates:\n",
        "#    - Quickly remove duplicate elements from a list or other iterable.\n",
        "#    - Example:\n",
        "\n",
        "numbers = [1, 2, 2, 3, 4, 4, 5]\n",
        "unique_numbers = set(numbers)\n",
        "print(unique_numbers)  # Output: {1, 2, 3, 4, 5}\n",
        "\n",
        "\n",
        "# 2. Mathematical Operations:\n",
        "#    - Performing set operations like union, intersection, and difference.\n",
        "#    - Example: Finding common elements in two lists.\n",
        "\n",
        "list1 = [1, 2, 3]\n",
        "list2 = [3, 4, 5]\n",
        "common_elements = set(list1) & set(list2)\n",
        "print(common_elements)  # Output: {3}\n"
      ],
      "metadata": {
        "id": "rrayR9_bqOH1"
      },
      "execution_count": null,
      "outputs": []
    },
    {
      "cell_type": "code",
      "source": [
        "#Quesstion 7- discuss how to add , modify and delete items in a dictionary with example\n",
        "\n",
        "# Adding Items:\n",
        "\n",
        "# You can add new key-value pairs to a dictionary using the following syntax:\n",
        "\n",
        "my_dict = {'name': 'Alice', 'age': 30}\n",
        "\n",
        "my_dict['city'] = 'New York'  # Adding a new key-value pair\n",
        "\n",
        "print(my_dict)  # Output: {'name': 'Alice', 'age': 30, 'city': 'New York'}\n",
        "\n",
        "\n",
        "# Modifying Items:\n",
        "\n",
        "# To change the value associated with an existing key, you can simply assign a new value to it:\n",
        "\n",
        "my_dict['age'] = 35  # Modifying the value for the key 'age'\n",
        "\n",
        "print(my_dict)  # Output: {'name': 'Alice', 'age': 35, 'city': 'New York'}\n",
        "\n",
        "\n",
        "# Deleting Items:\n",
        "\n",
        "# There are a few ways to delete items from a dictionary:\n",
        "\n",
        "# 1. Using the del keyword:\n",
        "\n",
        "del my_dict['city']  # Deleting the key-value pair with key 'city'\n",
        "\n",
        "print(my_dict)  # Output: {'name': 'Alice', 'age': 35}\n",
        "\n",
        "# 2. Using the pop() method:\n",
        "\n",
        "age = my_dict.pop('age')  # Removes the key-value pair and returns the value\n",
        "\n",
        "print(my_dict)  # Output: {'name': 'Alice'}\n",
        "print(age)  # Output: 35\n",
        "\n",
        "# 3. Using the clear() method to remove all items:\n",
        "\n",
        "my_dict.clear()\n",
        "\n",
        "print(my_dict)  # Output: {}\n"
      ],
      "metadata": {
        "id": "KEEdPdADrWY7"
      },
      "execution_count": null,
      "outputs": []
    },
    {
      "cell_type": "code",
      "source": [
        "# Question8- discuss the importance of dictionary keys being immutable and provide example\n",
        "# Dictionaries rely on keys to efficiently access and retrieve values. Immutability of keys is crucial for the following reasons:\n",
        "\n",
        "# 1. Hashing: Dictionaries use a technique called hashing to store and retrieve key-value pairs quickly. Hashing requires keys to have a fixed hash value, which is only possible if the keys are immutable.\n",
        "\n",
        "# 2. Uniqueness: Dictionary keys must be unique.\n",
        "\n",
        "# Example:\n",
        "\n",
        "# Valid immutable keys:\n",
        "my_dict = {\n",
        "  1: 'value1',\n",
        "  'name': 'Alice',\n",
        "  (1, 2): 'coordinates'  # Tuple is immutable\n",
        "}\n",
        "\n",
        "# Invalid mutable key (would raise an error):\n",
        "# my_dict = {\n",
        "#   [1, 2]: 'list'  # List is mutable\n",
        "# }\n",
        "\n",
        "# Using mutable objects as keys can lead to unexpected behavior and errors.\n"
      ],
      "metadata": {
        "id": "Nx5OOBZHujVL"
      },
      "execution_count": null,
      "outputs": []
    }
  ]
}